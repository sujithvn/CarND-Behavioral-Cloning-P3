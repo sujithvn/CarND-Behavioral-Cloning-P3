{
 "cells": [
  {
   "cell_type": "markdown",
   "metadata": {},
   "source": [
    "#### Import the required libraries and initial view"
   ]
  },
  {
   "cell_type": "code",
   "execution_count": 1,
   "metadata": {
    "collapsed": true
   },
   "outputs": [],
   "source": [
    "import pandas as pd\n",
    "import numpy as np\n",
    "import os\n",
    "import matplotlib.pyplot as plt"
   ]
  },
  {
   "cell_type": "code",
   "execution_count": 2,
   "metadata": {
    "collapsed": true
   },
   "outputs": [],
   "source": [
    "df = pd.read_csv('/Users/sujith/trainData/driving_log.csv', header=None)"
   ]
  },
  {
   "cell_type": "code",
   "execution_count": 3,
   "metadata": {},
   "outputs": [],
   "source": [
    "df.columns=[\"centre\", \"left\", \"right\", \"steer\", \"x1\", \"x2\", \"x3\"]"
   ]
  },
  {
   "cell_type": "code",
   "execution_count": 4,
   "metadata": {},
   "outputs": [
    {
     "data": {
      "text/html": [
       "<div>\n",
       "<style>\n",
       "    .dataframe thead tr:only-child th {\n",
       "        text-align: right;\n",
       "    }\n",
       "\n",
       "    .dataframe thead th {\n",
       "        text-align: left;\n",
       "    }\n",
       "\n",
       "    .dataframe tbody tr th {\n",
       "        vertical-align: top;\n",
       "    }\n",
       "</style>\n",
       "<table border=\"1\" class=\"dataframe\">\n",
       "  <thead>\n",
       "    <tr style=\"text-align: right;\">\n",
       "      <th></th>\n",
       "      <th>centre</th>\n",
       "      <th>left</th>\n",
       "      <th>right</th>\n",
       "      <th>steer</th>\n",
       "      <th>x1</th>\n",
       "      <th>x2</th>\n",
       "      <th>x3</th>\n",
       "    </tr>\n",
       "  </thead>\n",
       "  <tbody>\n",
       "    <tr>\n",
       "      <th>0</th>\n",
       "      <td>/Users/sujith/trainData/IMG/center_2019_02_15_...</td>\n",
       "      <td>/Users/sujith/trainData/IMG/left_2019_02_15_12...</td>\n",
       "      <td>/Users/sujith/trainData/IMG/right_2019_02_15_1...</td>\n",
       "      <td>0.00</td>\n",
       "      <td>1.0</td>\n",
       "      <td>0</td>\n",
       "      <td>16.22692</td>\n",
       "    </tr>\n",
       "    <tr>\n",
       "      <th>1</th>\n",
       "      <td>/Users/sujith/trainData/IMG/center_2019_02_15_...</td>\n",
       "      <td>/Users/sujith/trainData/IMG/left_2019_02_15_12...</td>\n",
       "      <td>/Users/sujith/trainData/IMG/right_2019_02_15_1...</td>\n",
       "      <td>-0.15</td>\n",
       "      <td>1.0</td>\n",
       "      <td>0</td>\n",
       "      <td>17.51071</td>\n",
       "    </tr>\n",
       "    <tr>\n",
       "      <th>2</th>\n",
       "      <td>/Users/sujith/trainData/IMG/center_2019_02_15_...</td>\n",
       "      <td>/Users/sujith/trainData/IMG/left_2019_02_15_12...</td>\n",
       "      <td>/Users/sujith/trainData/IMG/right_2019_02_15_1...</td>\n",
       "      <td>-0.40</td>\n",
       "      <td>1.0</td>\n",
       "      <td>0</td>\n",
       "      <td>18.65486</td>\n",
       "    </tr>\n",
       "    <tr>\n",
       "      <th>3</th>\n",
       "      <td>/Users/sujith/trainData/IMG/center_2019_02_15_...</td>\n",
       "      <td>/Users/sujith/trainData/IMG/left_2019_02_15_12...</td>\n",
       "      <td>/Users/sujith/trainData/IMG/right_2019_02_15_1...</td>\n",
       "      <td>0.00</td>\n",
       "      <td>1.0</td>\n",
       "      <td>0</td>\n",
       "      <td>19.84270</td>\n",
       "    </tr>\n",
       "    <tr>\n",
       "      <th>4</th>\n",
       "      <td>/Users/sujith/trainData/IMG/center_2019_02_15_...</td>\n",
       "      <td>/Users/sujith/trainData/IMG/left_2019_02_15_12...</td>\n",
       "      <td>/Users/sujith/trainData/IMG/right_2019_02_15_1...</td>\n",
       "      <td>0.00</td>\n",
       "      <td>1.0</td>\n",
       "      <td>0</td>\n",
       "      <td>21.03341</td>\n",
       "    </tr>\n",
       "  </tbody>\n",
       "</table>\n",
       "</div>"
      ],
      "text/plain": [
       "                                              centre  \\\n",
       "0  /Users/sujith/trainData/IMG/center_2019_02_15_...   \n",
       "1  /Users/sujith/trainData/IMG/center_2019_02_15_...   \n",
       "2  /Users/sujith/trainData/IMG/center_2019_02_15_...   \n",
       "3  /Users/sujith/trainData/IMG/center_2019_02_15_...   \n",
       "4  /Users/sujith/trainData/IMG/center_2019_02_15_...   \n",
       "\n",
       "                                                left  \\\n",
       "0  /Users/sujith/trainData/IMG/left_2019_02_15_12...   \n",
       "1  /Users/sujith/trainData/IMG/left_2019_02_15_12...   \n",
       "2  /Users/sujith/trainData/IMG/left_2019_02_15_12...   \n",
       "3  /Users/sujith/trainData/IMG/left_2019_02_15_12...   \n",
       "4  /Users/sujith/trainData/IMG/left_2019_02_15_12...   \n",
       "\n",
       "                                               right  steer   x1  x2        x3  \n",
       "0  /Users/sujith/trainData/IMG/right_2019_02_15_1...   0.00  1.0   0  16.22692  \n",
       "1  /Users/sujith/trainData/IMG/right_2019_02_15_1...  -0.15  1.0   0  17.51071  \n",
       "2  /Users/sujith/trainData/IMG/right_2019_02_15_1...  -0.40  1.0   0  18.65486  \n",
       "3  /Users/sujith/trainData/IMG/right_2019_02_15_1...   0.00  1.0   0  19.84270  \n",
       "4  /Users/sujith/trainData/IMG/right_2019_02_15_1...   0.00  1.0   0  21.03341  "
      ]
     },
     "execution_count": 4,
     "metadata": {},
     "output_type": "execute_result"
    }
   ],
   "source": [
    "df.head()"
   ]
  },
  {
   "cell_type": "code",
   "execution_count": 5,
   "metadata": {},
   "outputs": [
    {
     "data": {
      "text/plain": [
       "(3466, 7)"
      ]
     },
     "execution_count": 5,
     "metadata": {},
     "output_type": "execute_result"
    }
   ],
   "source": [
    "df.shape"
   ]
  },
  {
   "cell_type": "code",
   "execution_count": 6,
   "metadata": {},
   "outputs": [
    {
     "data": {
      "image/png": "[encoded data removed]",
      "text/plain": [
       "<matplotlib.figure.Figure at 0x10a618cc0>"
      ]
     },
     "metadata": {},
     "output_type": "display_data"
    }
   ],
   "source": [
    "df.steer.hist()\n",
    "plt.show()"
   ]
  },
  {
   "cell_type": "markdown",
   "metadata": {},
   "source": [
    "#### Verify that IMG folder and the CSV file are in sync"
   ]
  },
  {
   "cell_type": "code",
   "execution_count": 7,
   "metadata": {},
   "outputs": [
    {
     "name": "stdout",
     "output_type": "stream",
     "text": [
      "Received DF with rows =  3466\n",
      "Done...\n"
     ]
    }
   ],
   "source": [
    "newdf = pd.read_csv('/Users/sujith/trainData/driving_log.csv', header=None)\n",
    "orig_count = len(newdf)\n",
    "print(\"Received DF with rows = \", orig_count)\n",
    "\n",
    "for i in range(orig_count):\n",
    "    for j in range(3):\n",
    "        path = newdf.iloc[i][j]\n",
    "        if not os.path.exists(path):\n",
    "            print(\" *************   Not found: \", path)\n",
    "\n",
    "print (\"Done...\")"
   ]
  },
  {
   "cell_type": "markdown",
   "metadata": {},
   "source": [
    "#### Dropping the near-zero predictions\n",
    "\n",
    "This function takes in the range of steering angle (either side of 0-degree) and the proportion of the images to be deleted as parms. It identifies all the images with steering angle less than the provided range, calculate the count of images to be deleted (based on parm provided) and randomly deletes the portion of images.\n",
    "\n",
    "**Note:** Apart from removing the entries from the CSV file, I am also deleting the images from the IMG folder so that I could save on both time and bandwidth when uploading the images to Udacity platform for training."
   ]
  },
  {
   "cell_type": "code",
   "execution_count": 8,
   "metadata": {},
   "outputs": [],
   "source": [
    "def drop_zero_steering(dataframe, drop_zero_prob=0.75, drop_range=0.05):\n",
    "    orig_count = len(dataframe)\n",
    "    print(\"Received DF with rows = \", orig_count)\n",
    "    near_zero_idx = np.where(abs(pd.to_numeric(dataframe['steer'])) < drop_range)[0]\n",
    "    print(\"Count of near_zero_idx: \", len(near_zero_idx))\n",
    "    delete_count = int(drop_zero_prob * len(near_zero_idx))\n",
    "    print(\"Count identified for deletion: \", delete_count)\n",
    "    delete_indices = np.random.choice(near_zero_idx, delete_count, replace=False)\n",
    "    print(\"Count of identified indices for deletion: \", len(delete_indices))\n",
    "    for i in range(delete_count):\n",
    "        for j in range(3):\n",
    "            path = dataframe.iloc[delete_indices[i]][j]\n",
    "            if os.path.exists(path):\n",
    "                os.remove(path)\n",
    "                # print(path)\n",
    "            else:\n",
    "                print(\" *************   Not found: \", path)\n",
    "\n",
    "    # Update steering angles array.\n",
    "    dataframe.drop(dataframe.index[delete_indices], inplace=True)\n",
    "\n",
    "    new_count = len(dataframe)\n",
    "    print(\"{} rows dropped.\".format(orig_count - new_count))\n",
    "    print(\"Output DF has rows = \", new_count)\n",
    "    return dataframe"
   ]
  },
  {
   "cell_type": "code",
   "execution_count": 9,
   "metadata": {},
   "outputs": [
    {
     "name": "stdout",
     "output_type": "stream",
     "text": [
      "Received DF with rows =  3466\n",
      "Count of near_zero_idx:  2721\n",
      "Count identified for deletion:  2040\n",
      "Count of identified indices for deletion:  2040\n",
      "2040 rows dropped.\n",
      "Output DF has rows =  1426\n"
     ]
    }
   ],
   "source": [
    "temp = drop_zero_steering(df)\n",
    "temp.to_csv(\"/Users/sujith/trainData/driving_log_norm.csv\", index=None, header=False)\n"
   ]
  },
  {
   "cell_type": "markdown",
   "metadata": {},
   "source": [
    "#### Verify that IMG folder and the CSV file are in sync (after deletion)"
   ]
  },
  {
   "cell_type": "code",
   "execution_count": 10,
   "metadata": {},
   "outputs": [
    {
     "name": "stdout",
     "output_type": "stream",
     "text": [
      "Received DF with rows =  1426\n",
      "Done...\n"
     ]
    }
   ],
   "source": [
    "newdf = pd.read_csv('/Users/sujith/trainData/driving_log_norm.csv', header=None)\n",
    "orig_count = len(newdf)\n",
    "print(\"Received DF with rows = \", orig_count)\n",
    "\n",
    "for i in range(orig_count):\n",
    "    for j in range(3):\n",
    "        path = newdf.iloc[i][j]\n",
    "        if not os.path.exists(path):\n",
    "            print(\" *************   Not found: \", path)\n",
    "\n",
    "print (\"Done...\")"
   ]
  },
  {
   "cell_type": "markdown",
   "metadata": {},
   "source": [
    "#### Visualize the effect of removal"
   ]
  },
  {
   "cell_type": "code",
   "execution_count": 11,
   "metadata": {},
   "outputs": [
    {
     "data": {
      "image/png": "[encoded data removed]",
      "text/plain": [
       "<matplotlib.figure.Figure at 0x106179c18>"
      ]
     },
     "metadata": {},
     "output_type": "display_data"
    }
   ],
   "source": [
    "temp.steer.hist()\n",
    "plt.show()"
   ]
  },
  {
   "cell_type": "markdown",
   "metadata": {},
   "source": [
    "## Ignore below steps.\n",
    "There are two steps which are actually performed in the model pipeline. They are:\n",
    "1. Adjusting the steering angle for left and right camera images\n",
    "2. Data augmentation by horizontal flip of images. \n",
    "\n",
    "As these are part of pipeline, it is not performed locally, but I am running the below CELLs just to capture the effect of these steps in a histogram."
   ]
  },
  {
   "cell_type": "code",
   "execution_count": 12,
   "metadata": {},
   "outputs": [],
   "source": [
    "def correct_steer(temp):\n",
    "    measurements = []\n",
    "    correction = 0.2\n",
    "\n",
    "    for row in range(len(temp)):\n",
    "        for i in range(3):\n",
    "            if i == 0:\n",
    "                measurements.append(float(temp.iloc[row,3]))\n",
    "            elif i == 1: # left camera\n",
    "                measurements.append(float(temp.iloc[row,3]) + correction)\n",
    "            else:        # right camera\n",
    "                measurements.append(float(temp.iloc[row,3]) - correction)\n",
    "    return measurements\n"
   ]
  },
  {
   "cell_type": "code",
   "execution_count": 13,
   "metadata": {},
   "outputs": [
    {
     "data": {
      "image/png": "[encoded data removed]",
      "text/plain": [
       "<matplotlib.figure.Figure at 0x10a6ef2e8>"
      ]
     },
     "metadata": {},
     "output_type": "display_data"
    }
   ],
   "source": [
    "m = correct_steer(temp)\n",
    "plt.hist(m)\n",
    "plt.show()"
   ]
  },
  {
   "cell_type": "code",
   "execution_count": 14,
   "metadata": {
    "collapsed": true
   },
   "outputs": [],
   "source": [
    "def aug_imgs(measurements):\n",
    "    aug_measus = []\n",
    "    for measu in measurements:\n",
    "        aug_measus.append(measu)\n",
    "        aug_measus.append(-1.0 * measu)\n",
    "    return aug_measus\n"
   ]
  },
  {
   "cell_type": "code",
   "execution_count": 15,
   "metadata": {},
   "outputs": [
    {
     "data": {
      "image/png": "[encoded data removed]",
      "text/plain": [
       "<matplotlib.figure.Figure at 0x1129311d0>"
      ]
     },
     "metadata": {},
     "output_type": "display_data"
    }
   ],
   "source": [
    "a = aug_imgs(m)\n",
    "plt.hist(a)\n",
    "plt.show()"
   ]
  }
 ],
 "metadata": {
  "kernelspec": {
   "display_name": "Python 3",
   "language": "python",
   "name": "python3"
  },
  "language_info": {
   "codemirror_mode": {
    "name": "ipython",
    "version": 3
   },
   "file_extension": ".py",
   "mimetype": "text/x-python",
   "name": "python",
   "nbconvert_exporter": "python",
   "pygments_lexer": "ipython3",
   "version": "3.6.3"
  }
 },
 "nbformat": 4,
 "nbformat_minor": 2
}
