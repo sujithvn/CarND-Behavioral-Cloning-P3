{
 "cells": [
  {
   "cell_type": "code",
   "execution_count": 1,
   "metadata": {},
   "outputs": [],
   "source": [
    "import pickle\n",
    "import numpy as np\n",
    "import tensorflow as tf\n",
    "\n",
    "# Load pickled data\n",
    "with open('small_train_traffic.p', mode='rb') as f:\n",
    "    data = pickle.load(f)"
   ]
  },
  {
   "cell_type": "code",
   "execution_count": 2,
   "metadata": {},
   "outputs": [],
   "source": [
    "# Split the data\n",
    "X_train, y_train = data['features'], data['labels']"
   ]
  },
  {
   "cell_type": "code",
   "execution_count": 3,
   "metadata": {},
   "outputs": [
    {
     "name": "stderr",
     "output_type": "stream",
     "text": [
      "Using TensorFlow backend.\n"
     ]
    }
   ],
   "source": [
    "# Setup Keras\n",
    "from keras.models import Sequential\n",
    "from keras.layers.core import Dense, Activation, Flatten, Dropout\n",
    "from keras.layers.convolutional import Conv2D\n",
    "from keras.layers.pooling import MaxPooling2D"
   ]
  },
  {
   "cell_type": "code",
   "execution_count": 4,
   "metadata": {},
   "outputs": [],
   "source": [
    "# TODO: Build the Final Test Neural Network in Keras Here\n",
    "model = Sequential()\n",
    "model.add(Conv2D(32, (3,3), padding='valid', input_shape=(32,32,3)))\n",
    "model.add(MaxPooling2D(pool_size=(2, 2)))\n",
    "model.add(Dropout(0.5))\n",
    "model.add(Activation('relu'))\n",
    "model.add(Flatten())\n",
    "model.add(Dense(128))\n",
    "model.add(Activation('relu'))\n",
    "model.add(Dense(5))\n",
    "model.add(Activation('softmax'))"
   ]
  },
  {
   "cell_type": "code",
   "execution_count": 5,
   "metadata": {},
   "outputs": [],
   "source": [
    "# preprocess data\n",
    "X_normalized = np.array(X_train / 255.0 - 0.5 )\n",
    "\n",
    "from sklearn.preprocessing import LabelBinarizer\n",
    "label_binarizer = LabelBinarizer()\n",
    "y_one_hot = label_binarizer.fit_transform(y_train)"
   ]
  },
  {
   "cell_type": "code",
   "execution_count": 11,
   "metadata": {},
   "outputs": [
    {
     "name": "stdout",
     "output_type": "stream",
     "text": [
      "Train on 80 samples, validate on 20 samples\n",
      "Epoch 1/30\n",
      "80/80 [==============================] - 0s 5ms/step - loss: 0.3522 - acc: 0.8375 - val_loss: 0.0151 - val_acc: 1.0000\n",
      "Epoch 2/30\n",
      "80/80 [==============================] - 0s 3ms/step - loss: 0.1101 - acc: 0.9375 - val_loss: 0.0312 - val_acc: 1.0000\n",
      "Epoch 3/30\n",
      "80/80 [==============================] - 0s 3ms/step - loss: 0.0613 - acc: 0.9875 - val_loss: 0.0327 - val_acc: 1.0000\n",
      "Epoch 4/30\n",
      "80/80 [==============================] - 0s 3ms/step - loss: 0.0648 - acc: 0.9750 - val_loss: 0.0107 - val_acc: 1.0000\n",
      "Epoch 5/30\n",
      "80/80 [==============================] - 0s 3ms/step - loss: 0.0395 - acc: 0.9875 - val_loss: 0.0117 - val_acc: 1.0000\n",
      "Epoch 6/30\n",
      "80/80 [==============================] - 0s 3ms/step - loss: 0.0377 - acc: 1.0000 - val_loss: 0.0181 - val_acc: 1.0000\n",
      "Epoch 7/30\n",
      "80/80 [==============================] - 0s 3ms/step - loss: 0.0965 - acc: 0.9500 - val_loss: 0.0056 - val_acc: 1.0000\n",
      "Epoch 8/30\n",
      "80/80 [==============================] - 0s 3ms/step - loss: 0.0483 - acc: 0.9750 - val_loss: 0.0233 - val_acc: 1.0000\n",
      "Epoch 9/30\n",
      "80/80 [==============================] - 0s 3ms/step - loss: 0.0508 - acc: 0.9625 - val_loss: 0.0128 - val_acc: 1.0000\n",
      "Epoch 10/30\n",
      "80/80 [==============================] - 0s 3ms/step - loss: 0.0692 - acc: 0.9750 - val_loss: 0.0053 - val_acc: 1.0000\n",
      "Epoch 11/30\n",
      "80/80 [==============================] - 0s 3ms/step - loss: 0.0214 - acc: 1.0000 - val_loss: 0.0150 - val_acc: 1.0000\n",
      "Epoch 12/30\n",
      "80/80 [==============================] - 0s 3ms/step - loss: 0.0323 - acc: 0.9875 - val_loss: 0.0035 - val_acc: 1.0000\n",
      "Epoch 13/30\n",
      "80/80 [==============================] - 0s 3ms/step - loss: 0.0131 - acc: 1.0000 - val_loss: 0.0078 - val_acc: 1.0000\n",
      "Epoch 14/30\n",
      "80/80 [==============================] - 0s 3ms/step - loss: 0.0277 - acc: 1.0000 - val_loss: 0.0064 - val_acc: 1.0000\n",
      "Epoch 15/30\n",
      "80/80 [==============================] - 0s 3ms/step - loss: 0.0175 - acc: 1.0000 - val_loss: 0.0028 - val_acc: 1.0000\n",
      "Epoch 16/30\n",
      "80/80 [==============================] - 0s 3ms/step - loss: 0.0086 - acc: 1.0000 - val_loss: 0.0045 - val_acc: 1.0000\n",
      "Epoch 17/30\n",
      "80/80 [==============================] - 0s 2ms/step - loss: 0.0213 - acc: 1.0000 - val_loss: 0.0024 - val_acc: 1.0000\n",
      "Epoch 18/30\n",
      "80/80 [==============================] - 0s 3ms/step - loss: 0.0375 - acc: 0.9750 - val_loss: 0.0065 - val_acc: 1.0000\n",
      "Epoch 19/30\n",
      "80/80 [==============================] - 0s 3ms/step - loss: 0.0240 - acc: 0.9875 - val_loss: 0.0070 - val_acc: 1.0000\n",
      "Epoch 20/30\n",
      "80/80 [==============================] - 0s 3ms/step - loss: 0.0359 - acc: 0.9875 - val_loss: 0.0047 - val_acc: 1.0000\n",
      "Epoch 21/30\n",
      "80/80 [==============================] - 0s 3ms/step - loss: 0.0141 - acc: 1.0000 - val_loss: 0.0060 - val_acc: 1.0000\n",
      "Epoch 22/30\n",
      "80/80 [==============================] - 0s 3ms/step - loss: 0.0232 - acc: 1.0000 - val_loss: 0.0043 - val_acc: 1.0000\n",
      "Epoch 23/30\n",
      "80/80 [==============================] - 0s 3ms/step - loss: 0.0183 - acc: 1.0000 - val_loss: 0.0065 - val_acc: 1.0000\n",
      "Epoch 24/30\n",
      "80/80 [==============================] - 0s 3ms/step - loss: 0.0387 - acc: 0.9750 - val_loss: 0.0014 - val_acc: 1.0000\n",
      "Epoch 25/30\n",
      "80/80 [==============================] - 0s 3ms/step - loss: 0.0185 - acc: 1.0000 - val_loss: 0.0106 - val_acc: 1.0000\n",
      "Epoch 26/30\n",
      "80/80 [==============================] - 0s 3ms/step - loss: 0.0155 - acc: 1.0000 - val_loss: 0.0011 - val_acc: 1.0000\n",
      "Epoch 27/30\n",
      "80/80 [==============================] - 0s 3ms/step - loss: 0.0045 - acc: 1.0000 - val_loss: 0.0045 - val_acc: 1.0000\n",
      "Epoch 28/30\n",
      "80/80 [==============================] - 0s 3ms/step - loss: 0.0330 - acc: 0.9750 - val_loss: 0.0018 - val_acc: 1.0000\n",
      "Epoch 29/30\n",
      "80/80 [==============================] - 0s 3ms/step - loss: 0.0191 - acc: 1.0000 - val_loss: 0.0083 - val_acc: 1.0000\n",
      "Epoch 30/30\n",
      "80/80 [==============================] - 0s 3ms/step - loss: 0.0128 - acc: 1.0000 - val_loss: 0.0010 - val_acc: 1.0000\n"
     ]
    }
   ],
   "source": [
    "# compile and fit the model\n",
    "model.compile('adam', 'categorical_crossentropy', ['accuracy'])\n",
    "history = model.fit(X_normalized, y_one_hot, epochs=30, validation_split=0.2)"
   ]
  },
  {
   "cell_type": "code",
   "execution_count": 12,
   "metadata": {},
   "outputs": [
    {
     "name": "stdout",
     "output_type": "stream",
     "text": [
      "Testing\n",
      "20/20 [==============================] - 0s 680us/step\n",
      "loss: 0.002018511760979891\n",
      "acc: 1.0\n"
     ]
    }
   ],
   "source": [
    "# evaluate model against the test data\n",
    "with open('small_test_traffic.p', 'rb') as f:\n",
    "    data_test = pickle.load(f)\n",
    "\n",
    "X_test = data_test['features']\n",
    "y_test = data_test['labels']\n",
    "\n",
    "# preprocess data\n",
    "X_normalized_test = np.array(X_test / 255.0 - 0.5 )\n",
    "y_one_hot_test = label_binarizer.fit_transform(y_test)\n",
    "\n",
    "print(\"Testing\")\n",
    "\n",
    "metrics = model.evaluate(X_normalized_test, y_one_hot_test)\n",
    "for metric_i in range(len(model.metrics_names)):\n",
    "    metric_name = model.metrics_names[metric_i]\n",
    "    metric_value = metrics[metric_i]\n",
    "    print('{}: {}'.format(metric_name, metric_value))    "
   ]
  },
  {
   "cell_type": "code",
   "execution_count": 13,
   "metadata": {},
   "outputs": [
    {
     "name": "stdout",
     "output_type": "stream",
     "text": [
      "Nice, accuracy was 1.0\n",
      "Good Job, accuracy was above 90%\n",
      "\n"
     ]
    }
   ],
   "source": [
    "### DON'T MODIFY ANYTHING BELOW ###\n",
    "### Be sure to run all cells above before running this cell ###\n",
    "import grader\n",
    "\n",
    "try:\n",
    "    grader.run_grader(metrics)\n",
    "except Exception as err:\n",
    "    print(str(err))"
   ]
  },
  {
   "cell_type": "code",
   "execution_count": null,
   "metadata": {},
   "outputs": [],
   "source": []
  }
 ],
 "metadata": {
  "kernelspec": {
   "display_name": "Python 3",
   "language": "python",
   "name": "python3"
  },
  "language_info": {
   "codemirror_mode": {
    "name": "ipython",
    "version": 3
   },
   "file_extension": ".py",
   "mimetype": "text/x-python",
   "name": "python",
   "nbconvert_exporter": "python",
   "pygments_lexer": "ipython3",
   "version": "3.6.3"
  }
 },
 "nbformat": 4,
 "nbformat_minor": 2
}
